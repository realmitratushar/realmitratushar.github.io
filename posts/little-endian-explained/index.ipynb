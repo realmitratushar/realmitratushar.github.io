{
 "cells": [
  {
   "cell_type": "raw",
   "id": "a5c7528a-4751-4b2f-9048-f59bbf1b5d5f",
   "metadata": {
    "tags": [],
    "vscode": {
     "languageId": "raw"
    }
   },
   "source": [
    "---\n",
    "title: Little Endian Explained\n",
    "author: Neil Dcruze\n",
    "date: '2024-06-04'\n",
    "image: \"image.png\"\n",
    "description: \"An in-depth explanation of the 'little-endian' byte order and what implications that has when exploiting a machine that has this byte order.\"\n",
    "format: html\n",
    "categories: [\"Systems Programming\", \"Exploits\"]\n",
    "---"
   ]
  }
 ],
 "metadata": {
  "kernelspec": {
   "display_name": "Python [conda env:ml-0451] *",
   "language": "python",
   "name": "conda-env-ml-0451-py"
  },
  "language_info": {
   "codemirror_mode": {
    "name": "ipython",
    "version": 3
   },
   "file_extension": ".py",
   "mimetype": "text/x-python",
   "name": "python",
   "nbconvert_exporter": "python",
   "pygments_lexer": "ipython3",
   "version": "3.9.16"
  }
 },
 "nbformat": 4,
 "nbformat_minor": 5
}
