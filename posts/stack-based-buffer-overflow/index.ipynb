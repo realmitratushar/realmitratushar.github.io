{
 "cells": [
  {
   "cell_type": "raw",
   "id": "7dc494ab-a365-4e36-b564-e95ac0212bdc",
   "metadata": {},
   "source": [
    "---\n",
    "title: \"Introduction to Stack-Based Buffer Overflow Exploits\"\n",
    "author: Neil Dcruze\n",
    "date: '2024-05-26'\n",
    "image: \"image.jpeg\"\n",
    "description: \"This blog post explores a simplified Stack-Based Buffer Overflow exploit, demonstrating it through a carefully crafted C program and a detailed GDB analysis.\"\n",
    "format: html\n",
    "categories: [\"Exploits\"] \n",
    "---"
   ]
  }
 ],
 "metadata": {
  "kernelspec": {
   "display_name": "Python [conda env:ml-0451] *",
   "language": "python",
   "name": "conda-env-ml-0451-py"
  },
  "language_info": {
   "codemirror_mode": {
    "name": "ipython",
    "version": 3
   },
   "file_extension": ".py",
   "mimetype": "text/x-python",
   "name": "python",
   "nbconvert_exporter": "python",
   "pygments_lexer": "ipython3",
   "version": "3.9.16"
  }
 },
 "nbformat": 4,
 "nbformat_minor": 5
}
