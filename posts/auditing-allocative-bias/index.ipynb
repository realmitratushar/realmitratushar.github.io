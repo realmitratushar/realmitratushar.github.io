{
 "cells": [
  {
   "cell_type": "raw",
   "id": "54c1e703-fc78-4ad6-8959-47816599fa8d",
   "metadata": {},
   "source": [
    "---\n",
    "title: Auditing Allocative Bias\n",
    "author: Neil Dcruze\n",
    "date: '2023-03-28'\n",
    "image: \"image.png\"\n",
    "description: \"Training a Model to predict Employment for Different Individuals and then Audit the Model to Display Potential Biases across different Racial Groups\"\n",
    "format: html\n",
    "categories: \"Machine Learning\" \n",
    "---"
   ]
  },
  {
   "cell_type": "markdown",
   "id": "7fd75d72-3f47-466a-b3e5-895da0bb97d5",
   "metadata": {},
   "source": [
    "# Introduction\n",
    "In machine learning, <i>bias</i> refers to the production of consistently prejudiced outcomes by the algorithm, which can create unfair circumstances on multiple fronts. In this blog post, we aim to explore that <i>bias</i> by:\n",
    "<ol>\n",
    "    <li> Creating a machine learning model that predicts an individual characteristic like: employment status or income, on the basis of other demographic characteristics\n",
    "    <li> Performing a \"fairness audit\" in order to assess whether our algorithm displays bias with respect to demographic characteristics (race or sex)\n",
    "</ol>\n",
    "\n",
    "For the purpose of this blog post, we will be using the <u>folktables</u> package to download data on which we will perform the <i>bias audit</i>. Here, we will be using the data of individuals from the state of New York!\n",
    "\n",
    "# Loading and Setting Up the Data\n",
    "First, let us load the data and prepare it for our purposes:"
   ]
  },
  {
   "cell_type": "code",
   "execution_count": 11,
   "id": "c9bd5202-7756-4722-b2c8-0c0d3b904068",
   "metadata": {},
   "outputs": [
    {
     "name": "stdout",
     "output_type": "stream",
     "text": [
      "Downloading data for 2018 1-Year person survey for NY...\n"
     ]
    }
   ],
   "source": [
    "from folktables import ACSDataSource, ACSEmployment, BasicProblem, adult_filter\n",
    "import numpy as np\n",
    "import pandas as pd\n",
    "import seaborn as sns\n",
    "from matplotlib import pyplot as plt\n",
    "from sklearn.model_selection import train_test_split \n",
    "from sklearn.linear_model import LogisticRegression\n",
    "from sklearn.preprocessing import PolynomialFeatures\n",
    "from sklearn.pipeline import Pipeline\n",
    "from sklearn.model_selection import cross_val_score\n",
    "from sklearn.metrics import confusion_matrix\n",
    "import warnings\n",
    "\n",
    "warnings.filterwarnings('ignore')\n",
    "\n",
    "STATE = 'NY'\n",
    "\n",
    "data_source = ACSDataSource(survey_year='2018', horizon='1-Year', survey='person')\n",
    "\n",
    "acs_data = data_source.get_data(states=[STATE], download = True)"
   ]
  },
  {
   "cell_type": "markdown",
   "id": "d72e7403-6899-44f1-8d46-875ee67360cf",
   "metadata": {},
   "source": [
    "Now, let us examine the first few rows of the data, to get an idea of it:"
   ]
  },
  {
   "cell_type": "code",
   "execution_count": 12,
   "id": "d314d519-56cb-477c-96cd-e0eba72e564a",
   "metadata": {},
   "outputs": [
    {
     "data": {
      "text/html": [
       "<div>\n",
       "<style scoped>\n",
       "    .dataframe tbody tr th:only-of-type {\n",
       "        vertical-align: middle;\n",
       "    }\n",
       "\n",
       "    .dataframe tbody tr th {\n",
       "        vertical-align: top;\n",
       "    }\n",
       "\n",
       "    .dataframe thead th {\n",
       "        text-align: right;\n",
       "    }\n",
       "</style>\n",
       "<table border=\"1\" class=\"dataframe\">\n",
       "  <thead>\n",
       "    <tr style=\"text-align: right;\">\n",
       "      <th></th>\n",
       "      <th>RT</th>\n",
       "      <th>SERIALNO</th>\n",
       "      <th>DIVISION</th>\n",
       "      <th>SPORDER</th>\n",
       "      <th>PUMA</th>\n",
       "      <th>REGION</th>\n",
       "      <th>ST</th>\n",
       "      <th>ADJINC</th>\n",
       "      <th>PWGTP</th>\n",
       "      <th>AGEP</th>\n",
       "      <th>...</th>\n",
       "      <th>PWGTP71</th>\n",
       "      <th>PWGTP72</th>\n",
       "      <th>PWGTP73</th>\n",
       "      <th>PWGTP74</th>\n",
       "      <th>PWGTP75</th>\n",
       "      <th>PWGTP76</th>\n",
       "      <th>PWGTP77</th>\n",
       "      <th>PWGTP78</th>\n",
       "      <th>PWGTP79</th>\n",
       "      <th>PWGTP80</th>\n",
       "    </tr>\n",
       "  </thead>\n",
       "  <tbody>\n",
       "    <tr>\n",
       "      <th>0</th>\n",
       "      <td>P</td>\n",
       "      <td>2018GQ0000012</td>\n",
       "      <td>2</td>\n",
       "      <td>1</td>\n",
       "      <td>3802</td>\n",
       "      <td>1</td>\n",
       "      <td>36</td>\n",
       "      <td>1013097</td>\n",
       "      <td>145</td>\n",
       "      <td>26</td>\n",
       "      <td>...</td>\n",
       "      <td>146</td>\n",
       "      <td>146</td>\n",
       "      <td>21</td>\n",
       "      <td>24</td>\n",
       "      <td>266</td>\n",
       "      <td>263</td>\n",
       "      <td>21</td>\n",
       "      <td>146</td>\n",
       "      <td>265</td>\n",
       "      <td>144</td>\n",
       "    </tr>\n",
       "    <tr>\n",
       "      <th>1</th>\n",
       "      <td>P</td>\n",
       "      <td>2018GQ0000040</td>\n",
       "      <td>2</td>\n",
       "      <td>1</td>\n",
       "      <td>2702</td>\n",
       "      <td>1</td>\n",
       "      <td>36</td>\n",
       "      <td>1013097</td>\n",
       "      <td>43</td>\n",
       "      <td>21</td>\n",
       "      <td>...</td>\n",
       "      <td>6</td>\n",
       "      <td>42</td>\n",
       "      <td>43</td>\n",
       "      <td>7</td>\n",
       "      <td>40</td>\n",
       "      <td>6</td>\n",
       "      <td>43</td>\n",
       "      <td>40</td>\n",
       "      <td>42</td>\n",
       "      <td>6</td>\n",
       "    </tr>\n",
       "    <tr>\n",
       "      <th>2</th>\n",
       "      <td>P</td>\n",
       "      <td>2018GQ0000060</td>\n",
       "      <td>2</td>\n",
       "      <td>1</td>\n",
       "      <td>2001</td>\n",
       "      <td>1</td>\n",
       "      <td>36</td>\n",
       "      <td>1013097</td>\n",
       "      <td>88</td>\n",
       "      <td>18</td>\n",
       "      <td>...</td>\n",
       "      <td>88</td>\n",
       "      <td>163</td>\n",
       "      <td>161</td>\n",
       "      <td>162</td>\n",
       "      <td>87</td>\n",
       "      <td>12</td>\n",
       "      <td>162</td>\n",
       "      <td>88</td>\n",
       "      <td>87</td>\n",
       "      <td>88</td>\n",
       "    </tr>\n",
       "    <tr>\n",
       "      <th>3</th>\n",
       "      <td>P</td>\n",
       "      <td>2018GQ0000081</td>\n",
       "      <td>2</td>\n",
       "      <td>1</td>\n",
       "      <td>2401</td>\n",
       "      <td>1</td>\n",
       "      <td>36</td>\n",
       "      <td>1013097</td>\n",
       "      <td>109</td>\n",
       "      <td>85</td>\n",
       "      <td>...</td>\n",
       "      <td>17</td>\n",
       "      <td>15</td>\n",
       "      <td>111</td>\n",
       "      <td>107</td>\n",
       "      <td>17</td>\n",
       "      <td>196</td>\n",
       "      <td>109</td>\n",
       "      <td>200</td>\n",
       "      <td>198</td>\n",
       "      <td>111</td>\n",
       "    </tr>\n",
       "    <tr>\n",
       "      <th>4</th>\n",
       "      <td>P</td>\n",
       "      <td>2018GQ0000103</td>\n",
       "      <td>2</td>\n",
       "      <td>1</td>\n",
       "      <td>1400</td>\n",
       "      <td>1</td>\n",
       "      <td>36</td>\n",
       "      <td>1013097</td>\n",
       "      <td>83</td>\n",
       "      <td>19</td>\n",
       "      <td>...</td>\n",
       "      <td>81</td>\n",
       "      <td>12</td>\n",
       "      <td>80</td>\n",
       "      <td>154</td>\n",
       "      <td>12</td>\n",
       "      <td>80</td>\n",
       "      <td>12</td>\n",
       "      <td>83</td>\n",
       "      <td>152</td>\n",
       "      <td>154</td>\n",
       "    </tr>\n",
       "  </tbody>\n",
       "</table>\n",
       "<p>5 rows × 286 columns</p>\n",
       "</div>"
      ],
      "text/plain": [
       "  RT       SERIALNO  DIVISION  SPORDER  PUMA  REGION  ST   ADJINC  PWGTP  \\\n",
       "0  P  2018GQ0000012         2        1  3802       1  36  1013097    145   \n",
       "1  P  2018GQ0000040         2        1  2702       1  36  1013097     43   \n",
       "2  P  2018GQ0000060         2        1  2001       1  36  1013097     88   \n",
       "3  P  2018GQ0000081         2        1  2401       1  36  1013097    109   \n",
       "4  P  2018GQ0000103         2        1  1400       1  36  1013097     83   \n",
       "\n",
       "   AGEP  ...  PWGTP71  PWGTP72  PWGTP73  PWGTP74  PWGTP75  PWGTP76  PWGTP77  \\\n",
       "0    26  ...      146      146       21       24      266      263       21   \n",
       "1    21  ...        6       42       43        7       40        6       43   \n",
       "2    18  ...       88      163      161      162       87       12      162   \n",
       "3    85  ...       17       15      111      107       17      196      109   \n",
       "4    19  ...       81       12       80      154       12       80       12   \n",
       "\n",
       "   PWGTP78  PWGTP79  PWGTP80  \n",
       "0      146      265      144  \n",
       "1       40       42        6  \n",
       "2       88       87       88  \n",
       "3      200      198      111  \n",
       "4       83      152      154  \n",
       "\n",
       "[5 rows x 286 columns]"
      ]
     },
     "execution_count": 12,
     "metadata": {},
     "output_type": "execute_result"
    }
   ],
   "source": [
    "acs_data.head()"
   ]
  },
  {
   "cell_type": "markdown",
   "id": "2f54c0ae-c958-49bb-b43c-616e85064dc7",
   "metadata": {},
   "source": [
    "Each row in the above dataset corresponds to an individual citizen of New York who filled out the PUMS survey of 2018. Therefore, what we have is a $n$x$p$ matrix, where $n$ = number of data points, and $p$ = number of features. We can see that there are a bunch of features in this dataset, and all of them might not be pertinent for our analysis. Therefore, we are only going to choose the features which are relevant for this blog post: "
   ]
  },
  {
   "cell_type": "code",
   "execution_count": 13,
   "id": "082f31fb-478c-4385-a1d1-7aacefe47885",
   "metadata": {},
   "outputs": [],
   "source": [
    "possible_features=['AGEP', 'SCHL', 'MAR', 'RELP', 'DIS', 'ESP', 'CIT', 'MIG', 'MIL', 'ANC', 'NATIVITY', 'DEAR', 'DEYE', 'DREM', 'SEX', 'RAC1P', 'ESR']"
   ]
  },
  {
   "cell_type": "markdown",
   "id": "8d6ba3f6-9e1f-42b2-8ac4-ea10e644dc36",
   "metadata": {},
   "source": [
    "Now, since we want to predict <i>ESR</i> - Employment Status, based on every relevant feature except the <i>RAC1P</i> - Race, we want to remove these two features from the list of <i>possible_features</i>. This is because one of these features is our target (output), and the we are excluding the other one (race) to study racial bias in our machine learning model: "
   ]
  },
  {
   "cell_type": "code",
   "execution_count": 14,
   "id": "c66a54cb-f3d5-426c-9f5c-791fe662dfd3",
   "metadata": {},
   "outputs": [],
   "source": [
    "features_to_use = [f for f in possible_features if f not in [\"ESR\", \"RAC1P\"]]"
   ]
  },
  {
   "cell_type": "markdown",
   "id": "d8328d48-fde6-451e-bd42-82fb1b606c0f",
   "metadata": {},
   "source": [
    "Now that we know:\n",
    "<ol>\n",
    "    <li> Features (features_to_use): the features we wish to use for the prediction\n",
    "    <li> Target (ESR): the thing we are trying to predict\n",
    "    <li> Group (RAC1P): the group by which we wish to audit the bias\n",
    "</ol>\n",
    "\n",
    "We can go ahead and create a <i>BasicProblem</i>:"
   ]
  },
  {
   "cell_type": "code",
   "execution_count": 15,
   "id": "a729f3b9-3d2f-42a7-921e-5365d1724a0b",
   "metadata": {},
   "outputs": [],
   "source": [
    "EmploymentProblem = BasicProblem(\n",
    "    features=features_to_use,\n",
    "    target='ESR',\n",
    "    target_transform=lambda x: x == 1,\n",
    "    group='RAC1P',\n",
    "    preprocess=lambda x: x,\n",
    "    postprocess=lambda x: np.nan_to_num(x, -1),\n",
    ")"
   ]
  },
  {
   "cell_type": "markdown",
   "id": "da7b0486-258f-445b-8f3b-c1a781317a2d",
   "metadata": {},
   "source": [
    "Now we can go ahead and extract our feature matrix, output labels vector, and the group (race) vector as numpy objects:"
   ]
  },
  {
   "cell_type": "code",
   "execution_count": 16,
   "id": "76af7561-c21a-4ff6-b48f-e408a4ed4188",
   "metadata": {},
   "outputs": [],
   "source": [
    "features, label, group = EmploymentProblem.df_to_numpy(acs_data)"
   ]
  },
  {
   "cell_type": "markdown",
   "id": "7f7c92bc-904c-49f9-87e7-96b8b93b14ce",
   "metadata": {},
   "source": [
    "Now, that we have all the necessary data, we can split our data into <i>training data</i> and <i>testing data</i>. Here, 80% of the data will be used for training and the remaining 20% will be used for testing:"
   ]
  },
  {
   "cell_type": "code",
   "execution_count": 17,
   "id": "6d3f2a3d-3f10-47fd-8d23-98ae03366842",
   "metadata": {},
   "outputs": [],
   "source": [
    "X_train, X_test, y_train, y_test, group_train, group_test = train_test_split(features, label, group, test_size=0.2, random_state=0)"
   ]
  },
  {
   "cell_type": "markdown",
   "id": "c78632e8-07de-4eac-bd63-711aa81cefeb",
   "metadata": {},
   "source": [
    "# Basic Descriptives\n",
    "Now, that we have our data set up, we can address some basic descriptives of the data which will aid us in our analysis later on. For this it is useful to make a <i>data frame</i> out of our data:"
   ]
  },
  {
   "cell_type": "code",
   "execution_count": 18,
   "id": "5c1ca9eb-7e32-4ac2-940d-3e429e912894",
   "metadata": {},
   "outputs": [],
   "source": [
    "df = pd.DataFrame(X_train, columns = features_to_use)\n",
    "df[\"group\"] = group_train\n",
    "df[\"label\"] = y_train"
   ]
  },
  {
   "cell_type": "markdown",
   "id": "99716421-86ad-408a-8204-13e10dbb3781",
   "metadata": {},
   "source": [
    "Question 1: How many individuals are in the data?"
   ]
  },
  {
   "cell_type": "code",
   "execution_count": 20,
   "id": "f6671ab5-d725-458f-a204-9be467dff1f6",
   "metadata": {},
   "outputs": [
    {
     "name": "stdout",
     "output_type": "stream",
     "text": [
      "Answer 1: There are 157573 people in the training data set!\n"
     ]
    }
   ],
   "source": [
    "print(f\"Answer 1: There are {df.shape[0]} people in the training data set!\")"
   ]
  },
  {
   "cell_type": "markdown",
   "id": "c5e8172e-fadc-4305-85db-1ec0d1455eb8",
   "metadata": {},
   "source": [
    "Question 2: Of these individuals, what proportion have target label equal to 1? In employment prediction, these would correspond to employed individuals."
   ]
  },
  {
   "cell_type": "code",
   "execution_count": 21,
   "id": "07676014-4223-4604-81a7-2065d0e6a5e8",
   "metadata": {},
   "outputs": [
    {
     "name": "stdout",
     "output_type": "stream",
     "text": [
      "Answer 2: There are 73262 number of people in the training data set who are employed - have target label equal to True!\n"
     ]
    }
   ],
   "source": [
    "employed = df[df['label']==True]\n",
    "print(f\"Answer 2: There are {employed.shape[0]} number of people in the training data set who are employed - have target label equal to True!\")"
   ]
  },
  {
   "cell_type": "markdown",
   "id": "0cc50160-0bfa-4cae-a2cc-328c7ad983e0",
   "metadata": {},
   "source": [
    "Question 3: Of these individuals, how many are in each of the groups?\n",
    "<br><br>Answer 3: We can see a breakdown of how many people of each racial group are employed:"
   ]
  },
  {
   "cell_type": "code",
   "execution_count": 22,
   "id": "049ef13b-f705-4c78-919c-efe3b6210141",
   "metadata": {},
   "outputs": [
    {
     "name": "stdout",
     "output_type": "stream",
     "text": [
      "group\n",
      "1    52646\n",
      "2     8030\n",
      "3      177\n",
      "4        3\n",
      "5       66\n",
      "6     6778\n",
      "7       23\n",
      "8     3860\n",
      "9     1679\n",
      "dtype: int64\n"
     ]
    }
   ],
   "source": [
    "print(employed.groupby('group').size())"
   ]
  },
  {
   "cell_type": "markdown",
   "id": "349d9341-9ea0-49ec-a912-d73ccfe78980",
   "metadata": {},
   "source": [
    "Question 4: In each group, what proportion of individuals have target label equal to 1?\n",
    "<br><br>Answer 4: The proportion of individuals in each group who are employed (have target label 1):"
   ]
  },
  {
   "cell_type": "code",
   "execution_count": 23,
   "id": "b607e70f-3d45-4a3a-932e-6093be7c268e",
   "metadata": {},
   "outputs": [
    {
     "name": "stdout",
     "output_type": "stream",
     "text": [
      "      label\n",
      "       mean\n",
      "group      \n",
      "1      0.47\n",
      "2      0.42\n",
      "3      0.43\n",
      "4      0.75\n",
      "5      0.34\n",
      "6      0.50\n",
      "7      0.42\n",
      "8      0.44\n",
      "9      0.37\n"
     ]
    }
   ],
   "source": [
    "print(df.groupby(['group'])[['label']].aggregate([np.mean]).round(2))"
   ]
  },
  {
   "cell_type": "markdown",
   "id": "815c0b43-7d36-492e-b081-0e7177ce0a4b",
   "metadata": {},
   "source": [
    "Question 5: Check for intersectional trends by studying the proportion of positive target labels broken out by your chosen group labels and an additional group label. For example, if you chose race (RAC1P) as your group, then you could also choose sex (SEX) and compute the proportion of positive labels by both race and sex. \n",
    "<br><br> Answer 5: For answering this question, first let us look at the positive labels broken down only by SEX. Then we can look at the intersectionality of RACE and SEX, by looking at positive labels broken down by these two group labels."
   ]
  },
  {
   "cell_type": "code",
   "execution_count": 24,
   "id": "341558bb-4b00-4dad-8447-c8d1643161ee",
   "metadata": {},
   "outputs": [
    {
     "name": "stdout",
     "output_type": "stream",
     "text": [
      "    label\n",
      "     mean\n",
      "SEX      \n",
      "1.0  0.49\n",
      "2.0  0.44\n"
     ]
    }
   ],
   "source": [
    "print(df.groupby(['SEX'])[['label']].aggregate([np.mean]).round(2))"
   ]
  },
  {
   "cell_type": "markdown",
   "id": "7632494b-3c2d-496a-aca9-f35c6745db66",
   "metadata": {},
   "source": [
    "We can see that: 49% of MEN (1.0) are employed, while 44% of WOMEN (2.0) are employed! Now let us look at the positive target labels broken down by both RACE and SEX:"
   ]
  },
  {
   "cell_type": "code",
   "execution_count": 25,
   "id": "43b1fc53-d236-4520-b31e-e96be7072ef3",
   "metadata": {},
   "outputs": [
    {
     "name": "stdout",
     "output_type": "stream",
     "text": [
      "          label\n",
      "           mean\n",
      "group SEX      \n",
      "1     1.0  0.50\n",
      "      2.0  0.45\n",
      "2     1.0  0.40\n",
      "      2.0  0.44\n",
      "3     1.0  0.46\n",
      "      2.0  0.39\n",
      "4     1.0  1.00\n",
      "      2.0  0.50\n",
      "5     1.0  0.39\n",
      "      2.0  0.29\n",
      "6     1.0  0.54\n",
      "      2.0  0.46\n",
      "7     1.0  0.35\n",
      "      2.0  0.50\n",
      "8     1.0  0.48\n",
      "      2.0  0.41\n",
      "9     1.0  0.36\n",
      "      2.0  0.38\n"
     ]
    }
   ],
   "source": [
    "print(df.groupby(['group','SEX'])[['label']].aggregate([np.mean]).round(2))"
   ]
  },
  {
   "cell_type": "markdown",
   "id": "70164be5-01c6-4380-840d-6d8fbeda854f",
   "metadata": {},
   "source": [
    "We can visualize this data using a bar chart for easier understanding: "
   ]
  },
  {
   "cell_type": "code",
   "execution_count": 26,
   "id": "672435b7-7e55-4d60-9957-7a1429f769d3",
   "metadata": {},
   "outputs": [
    {
     "data": {
      "image/png": "[encoded data removed]",
      "text/plain": [
       "<Figure size 640x480 with 1 Axes>"
      ]
     },
     "metadata": {},
     "output_type": "display_data"
    }
   ],
   "source": [
    "bplot = sns.barplot(data=df, x=\"group\", y=\"label\", hue=\"SEX\", errorbar=('ci', 0))\n",
    "bplot.set(xlabel=\"Different Racial Groups\", ylabel=\"Proportion of People Employed\")\n",
    "plt.show(bplot)"
   ]
  },
  {
   "cell_type": "markdown",
   "id": "cd653235-a322-49d7-8f4c-195f58d8ef98",
   "metadata": {},
   "source": [
    "Therefore, it is apparent that the proportion of women who are employed, is less than the proportion of men who are employed, in almost all racial groups except racial group 2, 7, and 9. Not only that, some racial groups have a really high disparity between the proportion of men who are employed versus the proportion of women who are employed. For instance, in racial group 4: the proportion of men who are employed is roughly 100%, while the proportion of women who are employed is only 50%."
   ]
  },
  {
   "cell_type": "markdown",
   "id": "064b8f9c-fd88-4039-b313-17b5e0a9f4fc",
   "metadata": {},
   "source": [
    "# Training the Model\n",
    "Now that we have answered the basic descriptive questions, we are ready to train our model on the training data. For this blog post, the chosen machine learning model is: <i>Logistic Regression</i>, and we will be tuning the polynomial features (number of degrees) in our <i>Logistic Regression</i> model. Therefore, our workflow is going to be:\n",
    "<ol>\n",
    "    <li> Creating a function that will utilize <i>Pipeline</i> to make it easier for us to construct a <i>Logistic Regression</i> model with certain number of polynomial features (a certain number of degrees)\n",
    "    <li> Using cross-validation to select the best degree (number of polynomial features)\n",
    "    <li> Creating a Logistic Regression model with the best number of degrees that we found in Step (2) and fitting it on our <i>training data</i>\n",
    "    <li> Checking the performance of our model on the <i>testing data</i>\n",
    "</ol>\n",
    "\n",
    "Let us get started with creating the function which utilizes Pipeline, for easier construction of our Logistic Regression models:"
   ]
  },
  {
   "cell_type": "code",
   "execution_count": 27,
   "id": "d2a9da23-bc80-4061-be05-d3a01f9f16b5",
   "metadata": {},
   "outputs": [],
   "source": [
    "def polyLR(deg):\n",
    "  return Pipeline([(\"poly\", PolynomialFeatures(degree = deg)),\n",
    "                   (\"LR\", LogisticRegression(penalty = None, max_iter = 1000))])"
   ]
  },
  {
   "cell_type": "markdown",
   "id": "2e7c218f-196e-43ac-ad17-47bd41829581",
   "metadata": {},
   "source": [
    "Now, we can use cross-validation to select which degree (number of polynomial features) works best for our data. The main principle behind cross-validation is that you can divide your training data into $k$ folds (chunks), and then train your model over $k-1$ chunks and then <i>validate</i> it over the last remaining chunk. Therefore, if you divide your training data into $4$ chunks - let us say - then each one of the $4$ chunks will act as the <i>validation data</i> once, with the rest of the chunks being used as <i>training data</i>. Therefore, in case of $4$ chunks, the <u>fit</u> function will be called $4$ times. Now, we can find the <i>mean</i> cross-validation score for varying degrees (number of polynomial features), and the degree which has the highest cross-validation score is most likely to perform the best on the <i>testing data</i>:"
   ]
  },
  {
   "cell_type": "code",
   "execution_count": 28,
   "id": "3cb6ef2b-4b5b-4ce8-9724-b8a73b35a4c0",
   "metadata": {},
   "outputs": [
    {
     "name": "stdout",
     "output_type": "stream",
     "text": [
      "Polynomial Degree = 0, Score = 0.535\n",
      "Polynomial Degree = 1, Score = 0.772\n",
      "Polynomial Degree = 2, Score = 0.811\n",
      "Polynomial Degree = 3, Score = 0.809\n",
      "Polynomial Degree = 4, Score = 0.806\n"
     ]
    }
   ],
   "source": [
    "for deg in range(5):\n",
    "    plr = polyLR(deg = deg)\n",
    "    cv_scores = cross_val_score(plr, X_train, y_train, cv = 5)\n",
    "    mean_score = cv_scores.mean()\n",
    "    print(f\"Polynomial Degree = {deg}, Score = {mean_score.round(3)}\")"
   ]
  },
  {
   "cell_type": "markdown",
   "id": "ef20e289-8bde-4b63-832f-fc714ea2ed55",
   "metadata": {},
   "source": [
    "Therefore, for our purposes it seems that Polynomial Degree = $2$ yields the best results during our cross-validation, so we can assume that this degree is also likely to perform the best on our <i>testing data</i>. Now, we can go ahead and create a Logistic Regression model with degrees = $2$:"
   ]
  },
  {
   "cell_type": "code",
   "execution_count": 29,
   "id": "75aab2f9-6fcd-4ed2-861d-219e4a7ab278",
   "metadata": {},
   "outputs": [
    {
     "name": "stdout",
     "output_type": "stream",
     "text": [
      "Score on Training Data: 0.811\n"
     ]
    }
   ],
   "source": [
    "plr = polyLR(deg = 2)\n",
    "plr.fit(X_train, y_train)\n",
    "print(f\"Score on Training Data: {plr.score(X_train, y_train).round(3)}\")"
   ]
  },
  {
   "cell_type": "markdown",
   "id": "6c7b3b2c-9c86-433a-a97d-c0a33c354743",
   "metadata": {},
   "source": [
    "Now, finally we can check the performance of our model on the <i>testing data</i>:"
   ]
  },
  {
   "cell_type": "code",
   "execution_count": 30,
   "id": "070e411d-6a46-42d1-958c-e7a17269b3cc",
   "metadata": {},
   "outputs": [
    {
     "name": "stdout",
     "output_type": "stream",
     "text": [
      "Score on Testing Data: 0.811\n"
     ]
    }
   ],
   "source": [
    "print(f\"Score on Testing Data: {plr.score(X_test, y_test).round(3)}\")"
   ]
  },
  {
   "cell_type": "markdown",
   "id": "92af775e-90d4-4c10-ab22-c03b9d034169",
   "metadata": {},
   "source": [
    "Therefore, we can see that we achieved approximately $81$% accuracy on our <i>testing data</i>!"
   ]
  },
  {
   "cell_type": "markdown",
   "id": "bde24106-20ef-4b09-acba-9cd39e72245a",
   "metadata": {},
   "source": [
    "# Auditing the Model \n",
    "Now that our model is trained, we can perform an audit on the test data where we can answer questions on our <i>testing data</i>. It is helpful to use a confusion matrix while answering these questions. A confusion matrix, is a matrix containing information about the model's prediction and the kind of errors it makes: \n",
    "<ol>\n",
    "    <li>True Negative: Negative Data + Classified Negative by Model\n",
    "    <li>False Positive: Negative Data + Wrongly Classified Positive by Model\n",
    "    <li>False Negative: Positive Data + Wrongly Classified Negative by Model\n",
    "    <li>True Positive: Positive Data + Classified Positive by Model\n",
    "</ol>"
   ]
  },
  {
   "cell_type": "code",
   "execution_count": 31,
   "id": "4a654ca6-63bf-4c68-b567-667b320cb972",
   "metadata": {},
   "outputs": [
    {
     "name": "stdout",
     "output_type": "stream",
     "text": [
      "The Confusion Matrix:\n",
      " [[16235  4952]\n",
      " [ 2491 15716]]\n",
      "\n",
      "True Negative: 16235\n",
      "False Positive: 4952\n",
      "False Negative: 2491\n",
      "True Positive: 15716\n"
     ]
    }
   ],
   "source": [
    "y_pred = plr.predict(X_test)\n",
    "cm = confusion_matrix(y_test, y_pred)\n",
    "print(f\"The Confusion Matrix:\\n {cm}\")\n",
    "tn, fp, fn, tp = cm[0][0], cm[0][1], cm[1][0], cm[1][1]\n",
    "print(f\"\\nTrue Negative: {tn}\")\n",
    "print(f\"False Positive: {fp}\")\n",
    "print(f\"False Negative: {fn}\")\n",
    "print(f\"True Positive: {tp}\")"
   ]
  },
  {
   "cell_type": "markdown",
   "id": "723df0d0-9771-491a-8fec-92fd051144ec",
   "metadata": {},
   "source": [
    "That above is our confusion matrix with the information we talked about above. Now, it is useful to define some concepts and associated formulae:\n",
    "<ol>\n",
    "    <li><u>Overall Accuracy</u>: proportion of correct predictions made over the total number of predictions made <br><br><center>$\\text{Overall Accuracy} = \\frac{TN + TP}{TN + TP + FP + FN}$</center><br>\n",
    "    <li><u>Positive Predictive Value (PPV)</u>: probability that a positive prediction made by the model is actually correct <br><br><center>$\\text{PPV} = \\frac{TP}{TP + FP}$</center><br>\n",
    "    <li><u>False Positive Rate (FPR)</u>: proportion of negative examples that were incorrectly classified as positve<br><br><center>$\\text{FPR} = \\frac{FP}{FP + TN}$</center><br>\n",
    "    <li><u>False Negative Rate (FNR)</u>: proportion of positive examples that were incorrectly classified as negative <br><br><center>$\\text{FNR} = \\frac{FN}{FN + TP}$</center>\n",
    "</ol>\n",
    "\n",
    "### Overall Measures\n",
    "1. What is the overall accuracy of our model?"
   ]
  },
  {
   "cell_type": "code",
   "execution_count": 33,
   "id": "45eba11f-cc70-4055-8524-ac8970de9038",
   "metadata": {},
   "outputs": [
    {
     "name": "stdout",
     "output_type": "stream",
     "text": [
      "Overall Accuracy of the Model is 81.1%\n"
     ]
    }
   ],
   "source": [
    "overallAccuracy = ((tn + tp)/(tn + tp + fp + fn)).round(3)\n",
    "print(f\"Overall Accuracy of the Model is {np.round(overallAccuracy*100,3)}%\")"
   ]
  },
  {
   "cell_type": "markdown",
   "id": "118804a4-41dc-45c2-9732-1495524cf139",
   "metadata": {},
   "source": [
    "2. What is the Positive Predictive Value (PPV) of our model?"
   ]
  },
  {
   "cell_type": "code",
   "execution_count": 34,
   "id": "cd082aaa-c759-4c2f-9574-6e6fb7d8b232",
   "metadata": {},
   "outputs": [
    {
     "name": "stdout",
     "output_type": "stream",
     "text": [
      "PPV of the Model: 0.76\n",
      "This means that 0.76 of all positive predictions made by the model are actually correct!\n"
     ]
    }
   ],
   "source": [
    "ppv = ((tp)/(tp + fp)).round(3)\n",
    "print(f\"PPV of the Model: {ppv}\")\n",
    "print(f\"This means that {ppv} of all positive predictions made by the model are actually correct!\")"
   ]
  },
  {
   "cell_type": "markdown",
   "id": "66f84c35-77c1-48e0-8524-68d5d9221726",
   "metadata": {},
   "source": [
    "3. What are the overall False Positive and False Negative Rates (FPR and FNR) for our model?"
   ]
  },
  {
   "cell_type": "code",
   "execution_count": 35,
   "id": "788d7ef1-f0a3-4290-bbe2-4ff47cb43b8a",
   "metadata": {},
   "outputs": [
    {
     "name": "stdout",
     "output_type": "stream",
     "text": [
      "FPR of the Model: 0.234\n",
      "This means that 0.234 of all negative examples were wrongly classified as positive!\n",
      "\n",
      "FNR of the Model: 0.137\n",
      "This means that 0.137 of all positive examples were wrongly classified as negative!\n"
     ]
    }
   ],
   "source": [
    "fpr = ((fp)/(fp + tn)).round(3)\n",
    "fnr = ((fn)/(fn + tp)).round(3)\n",
    "print(f\"FPR of the Model: {fpr}\")\n",
    "print(f\"This means that {fpr} of all negative examples were wrongly classified as positive!\")\n",
    "print(f\"\\nFNR of the Model: {fnr}\")\n",
    "print(f\"This means that {fnr} of all positive examples were wrongly classified as negative!\")"
   ]
  },
  {
   "cell_type": "markdown",
   "id": "25f67c04-4e7b-4550-875e-1580d54fb461",
   "metadata": {},
   "source": [
    "### By-Group Measures\n",
    "Now, we can go ahead and look at the: Overall Accuracy, PPV, FPR, and FNR for each the 9 subgroups (the different racial groups). We cannot calculate the statistics for <i>Group 4: Alaskan Natives</i> due to lack of sufficient sample:"
   ]
  },
  {
   "cell_type": "code",
   "execution_count": 39,
   "id": "c0f548d0-d003-42b6-99b6-257ef91865d4",
   "metadata": {},
   "outputs": [
    {
     "name": "stdout",
     "output_type": "stream",
     "text": [
      "\n",
      "Group 1:\n",
      "Overall Accuracy: 81.62%\n",
      "PPV of the Model: 0.772\n",
      "This means that 0.772 of all positive predictions made by the model are actually correct!\n",
      "FPR of the Model: 0.223\n",
      "This means that 0.223 of all negative examples were wrongly classified as positive!\n",
      "FNR of the Model: 0.139\n",
      "This means that 0.139 of all positive examples were wrongly classified as negative!\n",
      "\n",
      "Group 2:\n",
      "Overall Accuracy: 80.6%\n",
      "PPV of the Model: 0.734\n",
      "This means that 0.734 of all positive predictions made by the model are actually correct!\n",
      "FPR of the Model: 0.24\n",
      "This means that 0.24 of all negative examples were wrongly classified as positive!\n",
      "FNR of the Model: 0.133\n",
      "This means that 0.133 of all positive examples were wrongly classified as negative!\n",
      "\n",
      "Group 3:\n",
      "Overall Accuracy: 73.4%\n",
      "PPV of the Model: 0.667\n",
      "This means that 0.667 of all positive predictions made by the model are actually correct!\n",
      "FPR of the Model: 0.278\n",
      "This means that 0.278 of all negative examples were wrongly classified as positive!\n",
      "FNR of the Model: 0.25\n",
      "This means that 0.25 of all positive examples were wrongly classified as negative!\n",
      "\n",
      "Group 5:\n",
      "Overall Accuracy: 78.72%\n",
      "PPV of the Model: 0.682\n",
      "This means that 0.682 of all positive predictions made by the model are actually correct!\n",
      "FPR of the Model: 0.241\n",
      "This means that 0.241 of all negative examples were wrongly classified as positive!\n",
      "FNR of the Model: 0.167\n",
      "This means that 0.167 of all positive examples were wrongly classified as negative!\n",
      "\n",
      "Group 6:\n",
      "Overall Accuracy: 78.42%\n",
      "PPV of the Model: 0.733\n",
      "This means that 0.733 of all positive predictions made by the model are actually correct!\n",
      "FPR of the Model: 0.324\n",
      "This means that 0.324 of all negative examples were wrongly classified as positive!\n",
      "FNR of the Model: 0.107\n",
      "This means that 0.107 of all positive examples were wrongly classified as negative!\n",
      "\n",
      "Group 7:\n",
      "Overall Accuracy: 70.59%\n",
      "PPV of the Model: 0.5\n",
      "This means that 0.5 of all positive predictions made by the model are actually correct!\n",
      "FPR of the Model: 0.417\n",
      "This means that 0.417 of all negative examples were wrongly classified as positive!\n",
      "FNR of the Model: 0.0\n",
      "This means that 0.0 of all positive examples were wrongly classified as negative!\n",
      "\n",
      "Group 8:\n",
      "Overall Accuracy: 77.95%\n",
      "PPV of the Model: 0.722\n",
      "This means that 0.722 of all positive predictions made by the model are actually correct!\n",
      "FPR of the Model: 0.267\n",
      "This means that 0.267 of all negative examples were wrongly classified as positive!\n",
      "FNR of the Model: 0.164\n",
      "This means that 0.164 of all positive examples were wrongly classified as negative!\n",
      "\n",
      "Group 9:\n",
      "Overall Accuracy: 85.9%\n",
      "PPV of the Model: 0.77\n",
      "This means that 0.77 of all positive predictions made by the model are actually correct!\n",
      "FPR of the Model: 0.144\n",
      "This means that 0.144 of all negative examples were wrongly classified as positive!\n",
      "FNR of the Model: 0.136\n",
      "This means that 0.136 of all positive examples were wrongly classified as negative!\n"
     ]
    }
   ],
   "source": [
    "for i in list(range(1,4)) + list(range(5, 10)):\n",
    "    print(f\"\\nGroup {i}:\")\n",
    "    ix = X_test[group_test == i, :]\n",
    "    y_testx = y_test[group_test == i]\n",
    "    y_predx = plr.predict(ix)\n",
    "    cm = confusion_matrix(y_testx, y_predx)\n",
    "    tn, fp, fn, tp = cm[0][0], cm[0][1], cm[1][0], cm[1][1]\n",
    "    overallAccuracy = (((tn + tp)/(tn + tp + fp + fn)) * 100).round(2)\n",
    "    ppv = ((tp)/(tp + fp)).round(3)\n",
    "    fpr = ((fp)/(fp + tn)).round(3)\n",
    "    fnr = ((fn)/(fn + tp)).round(3)\n",
    "    print(f\"Overall Accuracy: {overallAccuracy}%\")\n",
    "    print(f\"PPV of the Model: {ppv}\")\n",
    "    print(f\"This means that {ppv} of all positive predictions made by the model are actually correct!\")\n",
    "    print(f\"FPR of the Model: {fpr}\")\n",
    "    print(f\"This means that {fpr} of all negative examples were wrongly classified as positive!\")\n",
    "    print(f\"FNR of the Model: {fnr}\")\n",
    "    print(f\"This means that {fnr} of all positive examples were wrongly classified as negative!\")"
   ]
  },
  {
   "cell_type": "markdown",
   "id": "4b5007b9-121f-469a-97ba-b6fe94b749e8",
   "metadata": {},
   "source": [
    "### Bias Measures\n",
    "##### <font color=\"green\">Is the model approximately <i>calibrated</i>?</font>\n",
    "The results clearly show that the <i>PPV</i> varies across the different racial groups. Therefore, our model is not calibrated. For example, if we compared Group 1 (White only): PPV = $0.772$ and Group 2 (Black only): PPV = $0.734$. Therefore, $\\text{PPV}_\\text{White} > \\text{PPV}_\\text{Black}$, which means that the probability that a positive prediction made by the model is correct, is higher for white people, compared to black people. \n",
    "\n",
    "##### <font color=\"green\">Does the model satisfy approximate <i>error rate balance</i>?</font>\n",
    "The model does not satisfy approximate <i>error rate balance</i>. This is because the <i>FPR</i> and <i>FNR</i> is different across different racial groups. For example, analyzing Group 1 (White only) and Group 2 (Black only): $(\\text{FPR}_\\text{White}  = 0.223) < (\\text{FPR}_\\text{Black}= 0.24)$, and $(\\text{FNR}_\\text{White}  = 0.139) > (\\text{FNR}_\\text{Black}= 0.133)$. Therefore, for FPR: the model is more likely to wrongly classify negative examples (not employed) as positive (employed) for Black people compared to White people. For FNR: the model is more likely to wrongly classify positive examples (employed) as negative (not employed) for White people compared to Black people. Therefore, the model makes different types of mistakes more often, across different racial groups.\n",
    "\n",
    "##### <font color=\"green\">Does the model satisfy <i>statistical parity</i>?</font>\n",
    "Since, our model has different values of <i>PPV</i> for different racial groups - our model does not satisfy <i>statistical parity</i>!"
   ]
  },
  {
   "cell_type": "markdown",
   "id": "654a2ecb-09ad-4d17-99c5-f5f78c6eab4f",
   "metadata": {},
   "source": [
    "# Concluding Discussions\n",
    "##### <font color=\"green\">What groups of people could stand to benefit from a system? hat kinds of companies might want to buy your model for commercial use?</font>\n",
    "Since this model predicts whether a person is employed or not, based on other demographic factors. This model could be used to automate or cross-check the process of providing unemployment benefits to individuals. Since this model is more likely to classify unemployed Black people as employed, and more likely to classify employed White people as unemployed, if there were a model which gave people unemployment benefits based on the results of this model - White people would benefit!\n",
    "\n",
    "##### <font color=\"green\">What could be the impact of deploying your model for large-scale prediction in commercial or governmental settings? Do you feel that your model displays problematic bias?</font>\n",
    "Deploying a model like this for large-scale prediction in commercial or governmental settings will be problematic. This is because, as discussed above: the model will make different kinds of mistakes for different racial groups. Therefore, certain racial groups will benefit more than others - for instance, if the model is used to decide who gets unemployment benefits. Furthermore, this model displays problematic bias. As discussed in the <i>Bias Measures</i> the model is not (does not satisfy):\n",
    "<ol>\n",
    "    <li> Calibrated: probability that a positive prediction made by model is correct is different across racial groups\n",
    "    <li> Approximate Error Rate Balance: will make different kinds of mistakes for different racial groups\n",
    "    <li> Statistical Parity: model does not satisfy Statistical Parity (different <i>PPV</i>) for different racial groups\n",
    "</ol>\n",
    "\n",
    "##### <font color=\"green\">Are there other potential problems associated with deploying your model that make you uncomfortable? How would you propose addressing some of these problems?</font>\n",
    "If this model were to be used for government purposes: deciding unemployment benefits (mentioned above), I would not feel very comfortable. This is because the model first of all has its own problems and biases, and furthermore automating a process which affects an individual (and humans) so much is very inhumane, as the errors of the model can deeply affect people. If the model did not exhibit the problematic biases discussed above, then maybe the model would be slightly better for deployment. However, it would still not be ideal according to me."
   ]
  }
 ],
 "metadata": {
  "kernelspec": {
   "display_name": "Python [conda env:ml-0451] *",
   "language": "python",
   "name": "conda-env-ml-0451-py"
  },
  "language_info": {
   "codemirror_mode": {
    "name": "ipython",
    "version": 3
   },
   "file_extension": ".py",
   "mimetype": "text/x-python",
   "name": "python",
   "nbconvert_exporter": "python",
   "pygments_lexer": "ipython3",
   "version": "3.9.16"
  }
 },
 "nbformat": 4,
 "nbformat_minor": 5
}
