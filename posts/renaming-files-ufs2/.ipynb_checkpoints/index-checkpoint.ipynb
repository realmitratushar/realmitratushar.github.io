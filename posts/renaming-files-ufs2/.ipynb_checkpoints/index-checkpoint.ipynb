{
 "cells": [
  {
   "cell_type": "raw",
   "id": "32c4a246-75b5-45fe-b005-eabcd74f386f",
   "metadata": {},
   "source": [
    "---\n",
    "title: \"Renaming Files in UFS2 : The Hard Way\"\n",
    "author: Neil Dcruze\n",
    "date: '2024-05-24'\n",
    "image: \"image.png\"\n",
    "description: \"Writing a C program that traverses the structures used to represent files (and directories) in UFS2 (Unix File System) and renames a file/directory\"\n",
    "format: html\n",
    "categories: [\"Systems Programming\", \"Unix\"] \n",
    "---"
   ]
  },
  {
   "cell_type": "markdown",
   "id": "6aad3384-95f9-4651-a9e3-d5e9fd164a85",
   "metadata": {},
   "source": [
    "\n",
    "# Understanding UFS2 and File Renaming\n",
    "\n",
    "Github: <a href=\"https://github.com/dcruzeneil/rename-command\">dcruzeneil/rename-command</a>\n",
    "\n",
    "The UFS2 (Unix File System) is supported by many Unix-based operating systems. In this project, I wrote a C program to traverse the structures used by UFS2 to represent files and directories, focusing on renaming files. This process provided valuable insights into how UFS2 manages file names, permissions, file contents, and their representation on the disk.\n",
    "\n",
    "This blog post is not a comprehensive breakdown of UFS2, but it covers some key concepts:\n",
    "<ol>\n",
    "    <li> <b>Superblock</b>: This structure contains metadata about the entire file system, such as fragment size and the location of the root inode.\n",
    "    <li> <b>Directory Structures</b>: Each directory structure points to an inode (except the root directory, which just has an inode). It contains the inode number, file/directory name, and file type (directory, file, or other).\n",
    "    <li> <b>Inode</b>: Each file and folder has an associated inode that stores permissions and other metadata. For folders, the inode's data blocks point to other directory structures for the files/folders within that inode. For files, the data blocks point to the actual data.\n",
    "</ol>\n",
    "\n",
    "Data blocks refer to 32K chunks of memory on the disk.\n",
    "\n",
    "## Demonstration of the Rename Command\n",
    "\n",
    "Before renaming the files using my command, I ran my implementation of `fs-find` to list all the files in the raw image of a disk partition. Here is the output:\n",
    "\n",
    "<center><img src=\"fs-find-old.png\"></center>\n",
    "\n",
    "<br>\n",
    "Next, I ran the rename command:\n",
    "\n",
    "<center><img src=\"rename_command.png\"></center>\n",
    "\n",
    "<br>\n",
    "Finally, here is the output of `fs-find` after executing the rename command:\n",
    "\n",
    "<center><img src=\"fs-find-new.png\"></center>\n"
   ]
  }
 ],
 "metadata": {
  "kernelspec": {
   "display_name": "Python 3 (ipykernel)",
   "language": "python",
   "name": "python3"
  },
  "language_info": {
   "codemirror_mode": {
    "name": "ipython",
    "version": 3
   },
   "file_extension": ".py",
   "mimetype": "text/x-python",
   "name": "python",
   "nbconvert_exporter": "python",
   "pygments_lexer": "ipython3",
   "version": "3.9.16"
  }
 },
 "nbformat": 4,
 "nbformat_minor": 5
}
