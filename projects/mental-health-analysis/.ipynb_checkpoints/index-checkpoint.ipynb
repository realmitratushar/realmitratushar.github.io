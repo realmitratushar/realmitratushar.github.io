{
 "cells": [
  {
   "cell_type": "raw",
   "id": "e371b6e6-0299-4a22-aacc-ed23e4a6cec0",
   "metadata": {},
   "source": [
    "---\n",
    "title: Analyzing Sentiments from Tweets for Mental Health Support\n",
    "author: Neil Dcruze\n",
    "date: '2023-05-15'\n",
    "image: \"image.png\"\n",
    "description: \"Through machine learning techniques, this project aims to analyze positive and negative emotions by examining tweets\"\n",
    "format: html\n",
    "bibliography: refs.bib\n",
    "categories: [\"Machine Learning\", \"Project\"]\n",
    "---"
   ]
  },
  {
   "cell_type": "markdown",
   "id": "014ab036-9590-4554-af70-611dc63fb85d",
   "metadata": {},
   "source": [
    "# Abstract\n",
    "\n",
    "This final project focused on <i>sentiment analysis</i>, more specifically, classifying a given text (tweet in this case) as carrying a \"positive\" emotion or a \"negative\" emotion. For the purpose of this classification, this project wrote and implemented the PEGASOS algorithm to solve the primal formulation of SVMs (Support Vector Machines). The primal formulation of SVM is a convex optimization problem that aims to find the optimal hyperplane that maximally separates the classes in a binary classification task. Furthermore, this  project dealt with the vectorization of text-based data, and the parameters which affect how text is stored in a way a machine learning model can understand. Through hyperparameter tuning, this project was able to arrive at a $72$% accuracy on the <i>testing data</i> in predicting the emotion of a text (positive or negative). The limitation of the model created in this project is that it follows a \"bag-of-words\" approach - therefore, this model does not understand the \"contextual\" meaning of words.\n",
    "\n",
    "<a href=\"https://github.com/dcruzeneil/Mental-Health-Tweetment\"><b>GitHub Repository: <i>Mental Health Tweetment</i></b></a>"
   ]
  },
  {
   "cell_type": "markdown",
   "id": "b35c4a8a-2c98-4045-91c5-4c740f178657",
   "metadata": {},
   "source": [
    "# Introduction\n",
    "\n",
    "Sentiment Analysis is an evergrowing field with applications in many areas like analyzing customer feedback, social media monitoring, and so on. However, the primary purpose for this project was to create a sentiment analyis model which can discern \"positive\" tweets from \"negative\" tweets. Although, the data set used was the twitter data set, this problem is not limited to that. Having a model which can discern \"positive\" emotions from \"negative\" emotions (represented through text) can be really helpful in diagnosing and help people who might be suffering from mental health issues. \n",
    "\n",
    "For the purpose of this project, the model was a binary classifier. This is because the data set which contained the tweets only had two annotations: (0) negative, and (4) positive. However, there have been other works where the range of annotations is higher - very (negative/positive), slightly (negative/positive), and neutral. This multi-class classification might lead to a more nuanced model which can better understand the emotion of a text [@MulticlassSVM]. Furthermore, there have also been research in which the SVM has been trained on data from multiple sources, and there has been use of uni-grams and bi-grams in the model. This project will aim to borrow some ideas from this paper, particularly, the use of unigram and bigrams in the term-document matrix [@unigram]. Lastly, there has also been research which inspired future work I could do in this project, including emoticons in the analysis of sentiment of tweets [@SentimentDistantSupervision]."
   ]
  },
  {
   "cell_type": "markdown",
   "id": "ef1d8cda-62dc-4419-978c-d958dc4295a3",
   "metadata": {},
   "source": [
    "# Values Statement\n",
    "The main idea behind this project was to come up with a machine learning model which can potentially be used to intervene and assist people in need of mental health support. Although, one major drawback of this model is that it does not understand the contextual meaning of words. \n",
    "\n",
    "I am not particularly sure how this project would be implemented - given that implementing a model which analyzes \"text\" written by someone can be considered a breach of privacy. However, the potential users for this project could be mental health experts, who want to leverage the power of technology to get a better understanding of people (patients) who visit them. This model will benefit in the diagnosis of people who are suffering from mental health issues and allow intervention. Although this project does not directly harm anyone, the fact that it is trained over a data set which contained tweets in English means that anyone who does not know English is actively excluded from the benefits of this model.\n",
    "\n",
    "I am really interested in learning about and applying technological solutions which can solve real-life social issues. Due to this, I was really interested in applying my knowledge of machine learning in creating something which could potentially benefit other people. Based on my reflection, if my model had a higher accuracy rate, and if it were implemented respecting an individual's privacy - my model would make the world a more <i>joyful</i> place!"
   ]
  },
  {
   "cell_type": "markdown",
   "id": "a5a9437d-b965-41ba-8065-d8349cb7ae20",
   "metadata": {},
   "source": [
    "# Materials and Methods\n",
    "The data set chosen for this project is called the <a href=\"https://www.kaggle.com/datasets/kazanova/sentiment140?datasetId=2477\">Sentiment140</a> data set, which contains $1.6$ million tweets, which are annotated as Negative (0) and Positive (4). Each row of this data set contains information for a tweet: Sentiment, Tweet ID, Time of Tweet, Username, Tweet, and so on. A potential limitation of this data set is that it only contains tweets which were written in English, therefore, this model excludes people who speak other languages. The chosen model to train this data on was SVM, although, the main question was between: the <i>Primal</i> form of SVM, and the <i>Dual</i> form of SVM. Since we are dealing with linearly separable data, with fewer features compared to samples - the choice was <i>Primal SVM</i>. The <i>Dual</i> form of SVM, would have proven to be very computationally expensive, especially because of the construction of the <i>kernel</i>!\n",
    "\n",
    "#### <font color=\"green\">Sampling the Data</font>\n",
    "Before, we begin doing anything it is important to understand that the <i>Sentiment140</i> is a huge data set, which makes many computations very time-consuming. Therefore, we are going to sample the data set to select $50000$ data points (rows) randomly. The code which was used to sample the data is:\n",
    "```python\n",
    "import pandas as pd\n",
    "df = pd.read_csv(r\"datasetOriginal.csv\", encoding=\"latin-1\")\n",
    "df = df.sample(n=50000)\n",
    "df.to_csv(\"dataset.csv\", index = False)\n",
    "```"
   ]
  },
  {
   "cell_type": "markdown",
   "id": "b523baba-a376-42fe-ade9-df2c2f2de5aa",
   "metadata": {},
   "source": [
    "So, now we are working with a dataset which is way more manageable!"
   ]
  },
  {
   "cell_type": "markdown",
   "id": "7f974c7b-de3f-46a7-a34c-c5b26d9f9cac",
   "metadata": {},
   "source": [
    "#### <font color = \"green\">Loading the Data and Feature Selection</font>\n",
    "Before we perform any of our evaluations, we must prepare our data. For this, we will be using the <i>loadData</i> method from HelperClass:\n",
    "\n",
    "```python\n",
    "def loadData(self):\n",
    "    columns = ['Sentiment Score', 'Tweet ID', 'Time', 'Query', 'Username', 'Tweet']\n",
    "    df = pd.read_csv(r\"dataset.csv\", encoding=\"latin-1\", names = columns)\n",
    "    df = df[[\"Sentiment Score\", \"Tweet\"]]\n",
    "    return df\n",
    "```\n",
    "In the above operation, we are assigning adequate feature (column) names to the data. This dataset has a bunch of features, however, we are primarily interested in the: \n",
    "<ol>\n",
    "    <li><i><u>Tweet</u></i> feature: which contains the actual tweet - (Predictor) which will be used for Sentiment Analysis\n",
    "    <li><i><u>Sentiment Score</u></i> feature: which contains the true labels - (Target Vector) the actual assigned sentiment for each tweet \n",
    "</ol>\n",
    "\n",
    "Now, we can go ahead and store our data as a <i>pandas</i> data frame:"
   ]
  },
  {
   "cell_type": "code",
   "execution_count": 1,
   "id": "3127d334-70fd-4982-b2cc-cb0768a7024f",
   "metadata": {},
   "outputs": [],
   "source": [
    "import warnings\n",
    "import pandas as pd\n",
    "from matplotlib import pyplot as plt\n",
    "warnings.filterwarnings('ignore')\n",
    "from HelperClass import HelperClass\n",
    "\n",
    "hp = HelperClass()\n",
    "df = hp.loadData()"
   ]
  },
  {
   "cell_type": "markdown",
   "id": "b6176a85-adab-4bc0-93b7-efacc126a66d",
   "metadata": {},
   "source": [
    "To get an understanding of what the data looks like, we can go ahead and examine the first few rows of the data:"
   ]
  },
  {
   "cell_type": "code",
   "execution_count": 2,
   "id": "95490187-61b8-466f-9a0c-a44e74981931",
   "metadata": {},
   "outputs": [
    {
     "data": {
      "text/html": [
       "<div>\n",
       "<style scoped>\n",
       "    .dataframe tbody tr th:only-of-type {\n",
       "        vertical-align: middle;\n",
       "    }\n",
       "\n",
       "    .dataframe tbody tr th {\n",
       "        vertical-align: top;\n",
       "    }\n",
       "\n",
       "    .dataframe thead th {\n",
       "        text-align: right;\n",
       "    }\n",
       "</style>\n",
       "<table border=\"1\" class=\"dataframe\">\n",
       "  <thead>\n",
       "    <tr style=\"text-align: right;\">\n",
       "      <th></th>\n",
       "      <th>Sentiment Score</th>\n",
       "      <th>Tweet</th>\n",
       "    </tr>\n",
       "  </thead>\n",
       "  <tbody>\n",
       "    <tr>\n",
       "      <th>0</th>\n",
       "      <td>0</td>\n",
       "      <td>@switchfoot http://twitpic.com/2y1zl - Awww, t...</td>\n",
       "    </tr>\n",
       "    <tr>\n",
       "      <th>1</th>\n",
       "      <td>0</td>\n",
       "      <td>my last day</td>\n",
       "    </tr>\n",
       "    <tr>\n",
       "      <th>2</th>\n",
       "      <td>0</td>\n",
       "      <td>my elbow really hurts, whacked it off @lydiaro...</td>\n",
       "    </tr>\n",
       "    <tr>\n",
       "      <th>3</th>\n",
       "      <td>4</td>\n",
       "      <td>@MildManneredBoy Well thank you very much sir</td>\n",
       "    </tr>\n",
       "    <tr>\n",
       "      <th>4</th>\n",
       "      <td>4</td>\n",
       "      <td>@KylieLuvsJonas we need creeper rings! like yo...</td>\n",
       "    </tr>\n",
       "  </tbody>\n",
       "</table>\n",
       "</div>"
      ],
      "text/plain": [
       "   Sentiment Score                                              Tweet\n",
       "0                0  @switchfoot http://twitpic.com/2y1zl - Awww, t...\n",
       "1                0                                       my last day \n",
       "2                0  my elbow really hurts, whacked it off @lydiaro...\n",
       "3                4     @MildManneredBoy Well thank you very much sir \n",
       "4                4  @KylieLuvsJonas we need creeper rings! like yo..."
      ]
     },
     "execution_count": 2,
     "metadata": {},
     "output_type": "execute_result"
    }
   ],
   "source": [
    "df.head()"
   ]
  },
  {
   "cell_type": "markdown",
   "id": "45eba485-391e-4e33-843f-286ec3b24b4e",
   "metadata": {},
   "source": [
    "Therefore, we can see that now our data solely consists of the Sentiment Score and the Tweet. To understand the distribution of this data, we can perform:"
   ]
  },
  {
   "cell_type": "code",
   "execution_count": 3,
   "id": "0aa27a1a-aece-41b3-b25b-9a1ac97fe026",
   "metadata": {},
   "outputs": [
    {
     "data": {
      "text/plain": [
       "Sentiment Score\n",
       "0    24940\n",
       "4    25061\n",
       "dtype: int64"
      ]
     },
     "execution_count": 3,
     "metadata": {},
     "output_type": "execute_result"
    }
   ],
   "source": [
    "df.groupby(\"Sentiment Score\").size()"
   ]
  },
  {
   "cell_type": "markdown",
   "id": "a96e3dc1-a578-473e-89a2-d9a35c353dc2",
   "metadata": {},
   "source": [
    "So, we can clearly see that there are $24940$ tweets which are: Negative ($0$), and there are $25061$ tweets which are: Positive ($4$)!"
   ]
  },
  {
   "cell_type": "markdown",
   "id": "16ac8c6b-d233-448d-adc1-f5aa7e5ede7a",
   "metadata": {},
   "source": [
    "#### <font color = \"green\"> Preprocessing Tasks </font>\n",
    "To increase accuracy, and to make our input data better, we perform certain \"preprocessing\" tasks on the raw text data. Peforming the following tasks on the data:\n",
    "<ol>\n",
    "    <li> Casing: converting everything to either uppercase or lowercase\n",
    "    <li> Noise Removal: eliminating unwanted characters such as HTML tags, punctuation marks, special characters, and so on\n",
    "    <li> Tokenization: turning all the tweets into tokens - words separated by spaces\n",
    "    <li> Stopword Removal: ignore common English words (\"and\", \"if\", \"for\"), that are not likely to shape the sentiment of the tweet\n",
    "    <li> Text Normalization (Lemmatization): reducing words to their root form to eliminate variations of the same word\n",
    "        <ul>\n",
    "            <li> Better $\\rightarrow$ Good\n",
    "            <li> Runs/Running/Ran $\\rightarrow$ Run\n",
    "        </ul>\n",
    "</ol>"
   ]
  },
  {
   "cell_type": "code",
   "execution_count": 4,
   "id": "a362d7ce-1b6e-420f-8eb1-1b7fd3bb464f",
   "metadata": {},
   "outputs": [],
   "source": [
    "for i in range(df.shape[0]):\n",
    "    df[\"Tweet\"][i] = hp.preprocess(df[\"Tweet\"][i])"
   ]
  },
  {
   "cell_type": "markdown",
   "id": "bc00c893-1145-473d-b712-7e68605aaec3",
   "metadata": {},
   "source": [
    "#### <font color=\"green\">Training Data, Validation Data and Testing Data</font>\n",
    "\n",
    "Before, we proceed with any operation it is important to divide our data into <i>training data</i>, <i>validation data</i> and <i>testing data</i>:"
   ]
  },
  {
   "cell_type": "code",
   "execution_count": 5,
   "id": "e92606b0-28bc-4405-a56d-70cb607a3355",
   "metadata": {},
   "outputs": [],
   "source": [
    "from sklearn.model_selection import train_test_split \n",
    "dfX_train, dfX_test, dfY_train, dfY_test = train_test_split(df[\"Tweet\"], df[\"Sentiment Score\"], test_size=0.2, random_state=0)"
   ]
  },
  {
   "cell_type": "markdown",
   "id": "88948a1a-3fd1-4de3-9f1f-bb450dbcb5f9",
   "metadata": {},
   "source": [
    "The code above splits our entire data: the actual tweets, and the associated sentiment score - into training data and testing data. This data exists in the form of <i>pandas</i> dataframes. The <i>test_size</i> = 0.2, tells the function to save 20% of the data (roughly $10,000$ data points) for testing, and the rest ($40,000$) for training."
   ]
  },
  {
   "cell_type": "code",
   "execution_count": 6,
   "id": "a5636814-46c7-48f1-8df6-57049f66b8dd",
   "metadata": {},
   "outputs": [],
   "source": [
    "dfX_test, dfX_val, dfY_test, dfY_val = train_test_split(dfX_test, dfY_test, test_size=0.5, random_state=0)"
   ]
  },
  {
   "cell_type": "markdown",
   "id": "e123b6ee-32b0-4822-ab05-d139f64660b2",
   "metadata": {},
   "source": [
    "The code above splits the testing data into 50%, so that the <i>validation data</i> also has around 5000 data points. \n",
    "\n",
    "<b><u>Note</u>: 50,000 Total Data = 40,000 Training (80%) + 5000 Validation (10%) + 5000 Testing (10%)</b> - which is a pretty good split!</b>"
   ]
  },
  {
   "cell_type": "markdown",
   "id": "411b5566-2d0c-48fe-b029-a25f72a9bf1b",
   "metadata": {},
   "source": [
    "#### <font color=\"green\">Creating the Term-Document Matrix and the Target Vector</font>\n",
    "Now that we have our training and testing data frames, we want to separate it into the:\n",
    "<ul>\n",
    "    <li> Feature Matrix (X), and\n",
    "    <li> Target Vector (y)\n",
    "</ul>\n",
    "Luckily, for us the sentiment score is already numerically encoded (0 = Negative, and 4 = Positive). Although, we will convert this to -1 and 1 (for, 0 and 4 respectively) to standardize how SVM model predictions work. However, we must note that each individual tweet is like an individual row of the Feature Matrix - X. However, currently it is not represented in that format. To achieve that we have to create a \"Term-Document Matrix\". A term-document matrix is a matrix in which:\n",
    "<ol>\n",
    "    <li>Column: each column represents one term (word) that is present in our complete dataset (corpus) of the tweets\n",
    "    <li>Row: each row contains information about one tweet (document), that is which words are present in that particular tweet\n",
    "</ol>\n",
    "To think of it simply, all the columns collectively represent all the words that have come up in the complete tweet dataset. Each row, contains tells us, out of all the possible words, which ones are present (and with what frequency) in each individual tweet. Therefore, our term-document matrix will be of the order: $\\text{tdm} \\in \\mathbb{R}^{n\\text{x}p}$, where $n$ = number of tweets, and $p$ = unique words across all tweets. \n",
    "\n",
    "<br><u>Important Note</u>: in the above description of the columns, all the words in the \"complete tweet dataset\" refers solely to the training data. This is because when we create the list of vocabulary (all the relevant words present in the tweets), we do not want to look at words in the <i>testing data</i> as that might lead to unwanted biases!\n",
    "\n",
    "To create our term-document matrix, we can use the <i>CountVectorizer</i> from <i>scikit-learn</i>:"
   ]
  },
  {
   "cell_type": "code",
   "execution_count": 7,
   "id": "9a92cc82-7dad-48dd-99b7-46215970e57e",
   "metadata": {},
   "outputs": [],
   "source": [
    "from sklearn.feature_extraction.text import CountVectorizer\n",
    "import numpy as np\n",
    "\n",
    "cv = CountVectorizer(min_df = 0.001, ngram_range=(1,2))"
   ]
  },
  {
   "cell_type": "markdown",
   "id": "74d023f7-6e39-4b8d-8e79-26b77ceb4e08",
   "metadata": {},
   "source": [
    "In the above code, we create an instance of the <i>CountVectorizer</i> class. Here there are some important things to unpack:\n",
    "<ol>\n",
    "    <li>min_df: if a term appears in less than 1% of the dataset - ignore it. As we do not have enough data on this term to understand its role in shaping a tweet's sentiment\n",
    "    <li>ngram_range = (1,2): this tells our model to look at uni-grams (one word at a time), and bi-grams (two words taken together). This is good to understand words that often make sense in pairs\n",
    "</ol>\n",
    "\n",
    "Now, we can go ahead and create our term-document matrix (<i>tdm</i>) and appropriate <i>target vector</i> for the training, validation and testing data:"
   ]
  },
  {
   "cell_type": "code",
   "execution_count": 8,
   "id": "dcf6898d-1d5c-403d-b516-0d82a8b79f7d",
   "metadata": {},
   "outputs": [],
   "source": [
    "X_train, y_train = hp.prepData(dfX_train, dfY_train, cv, True)\n",
    "X_test, y_test = hp.prepData(dfX_test, dfY_test, cv, False)\n",
    "X_val, y_val = hp.prepData(dfX_val, dfY_val, cv, False)"
   ]
  },
  {
   "cell_type": "markdown",
   "id": "231d9024-e9bd-4cb9-b1d6-c1dfbdc5598c",
   "metadata": {},
   "source": [
    "The <i>prep_data</i> function, we use for getting the final <i>feature matrix</i> and <i>target vector</i> is defined as:\n",
    "```python\n",
    "def prepData(self, dfX, dfY, vectorizer, train = True):\n",
    "    if train:\n",
    "        vectorizer.fit(dfX)\n",
    "    #creating the term document matrix\n",
    "    counts = vectorizer.transform(dfX) \n",
    "    X = pd.DataFrame(counts.toarray(), columns = vectorizer.get_feature_names_out())\n",
    "    X = X.to_numpy()\n",
    "    y = dfY.to_numpy()\n",
    "    y = np.where(y == 0, -1, np.where(y == 4, 1, y)) \n",
    "    return X, y\n",
    "```\n",
    "There are some things to unpack here:\n",
    "<ol>\n",
    "    <li>The check for training ensures that vocabulary is only created for the training data\n",
    "    <li>Based on this constructed vocabulary, a term-document matrix is constructed (for both training and testing data)\n",
    "    <li>We convert our <i>feature matrix</i> and <i>target vector</i> to numpy objects for ease\n",
    "    <li>We change: $y = \\{0, 4\\}^{n}$ to $y = \\{-1, 1\\}^{n}$ for the SVM approach\n",
    "</ol>"
   ]
  },
  {
   "cell_type": "markdown",
   "id": "41c1fdf8-60d5-4b58-af29-5c29ae47df41",
   "metadata": {},
   "source": [
    "# PEGASOS (<font color=\"green\">P</font>rimal <font color=\"green\">E</font>stimated sub-<font color=\"green\">G</font>r<font color=\"green\">A</font>dient <font color=\"green\">SO</font>lver for <font color=\"green\">S</font>VM) : <font color = \"green\">Primal SVM</font>"
   ]
  },
  {
   "cell_type": "markdown",
   "id": "e2451041-d1d2-41f1-a2a5-3d85730bbf52",
   "metadata": {},
   "source": [
    "In PEGASOS (Primal Form of SVM), our empirical risk minimization problem is:<br><br>\n",
    "<center> $\\hat{\\mathbf{w}} = \\mathop{\\mathrm{arg\\,min}}_{\\mathbf{w}} \\; L(\\mathbf{w})\\;$ </center>\n",
    "<br>where, our loss function $L(\\mathbf{w})\\;$is defined as:<br><br>\n",
    "<center> $L(\\mathbf{w}) = \\frac{\\lambda}{2}||w||^2 + \\frac{1}{n} \\sum_{i = 1}^n \\ell_{\\text{hinge}}(\\langle \\mathbf{w}, \\mathbf{x}_i \\rangle, y_i)\\;$ </center>\n",
    "\n",
    "```python\n",
    "def loss(self, X, y):\n",
    "    y_hat = X@self.w\n",
    "    hinge_loss = np.mean(self.hinge_loss(y_hat, y))\n",
    "    l2_norm = (self.lamb/2) * np.sum(self.w ** 2)\n",
    "    return l2_norm + hinge_loss\n",
    "```\n",
    "\n",
    "<br>Therefore, we can see that there is an added regularization to prevent overfitting and to increase the model's ability to generalize over unseen data. For PEGASOS, the loss function which is generally used is called \"Hinge Loss\", which is defined as:<br><br>\n",
    "$$\n",
    "\\ell_{\\text{hinge}}(\\langle \\mathbf{w}, \\mathbf{x}_i \\rangle, y_i) = \\text{max}\\{0, 1 - y_i\\langle w, x_i \\rangle\\}\n",
    "$$\n",
    "```python\n",
    "def hinge_loss(self, y_hat, y):\n",
    "    return np.maximum(0, 1 - (y * y_hat))\n",
    "```\n",
    "\n",
    "In this case, our sub-gradient function is:<br><br>\n",
    "$$\n",
    "\\nabla L(\\mathbf{w}) = \\lambda w - \\frac{1}{n} \\sum_{i = 1}^n \\mathbb{1}[y_i \\langle \\mathbf{w}, \\mathbf{x}_i \\rangle < 1] y_i x_i\n",
    "$$\n",
    "```python\n",
    "def gradient_hinge_loss(self, X, y):\n",
    "    y_hat = X@self.w \n",
    "    tempVal = 1 * ((y_hat * y) < 1)\n",
    "\n",
    "    output = np.zeros((X.shape[1],))\n",
    "    for i in range(X.shape[0]):\n",
    "        output += tempVal[i] * np.dot(y[i], X[i])\n",
    "    output = output/X.shape[0]\n",
    "\n",
    "    output = np.dot(self.lamb, self.w) - output\n",
    "    return output\n",
    "```\n",
    "\n",
    "The following paper provided inspiration for the math behind the PEGASOS model [@MathFormula]."
   ]
  },
  {
   "cell_type": "markdown",
   "id": "5062afda-2d44-43b4-92dc-7b4ad9e04be9",
   "metadata": {},
   "source": [
    "# Results\n",
    "#### <font color=\"green\">Hyperparameter Tuning using Validation Data</font>"
   ]
  },
  {
   "cell_type": "markdown",
   "id": "f7a0c300-f38d-49cd-95b3-07fcfea0f6da",
   "metadata": {},
   "source": [
    "Before we train the model, we are going to use the validation data to find the ideal hyperparameters ($\\lambda$ - lambda, and <i>batch size</i>) for our model. First let us see, what values of $\\lambda$, yield good result. The $\\lambda$ values would be tested in powers of $10$, while the rest of the hyperparameters remain fixed:"
   ]
  },
  {
   "cell_type": "code",
   "execution_count": 9,
   "id": "26d471e7-44b9-4adc-a0eb-f55445514434",
   "metadata": {},
   "outputs": [
    {
     "name": "stdout",
     "output_type": "stream",
     "text": [
      "         Training Score  Validation Score\n",
      "Lambda                                   \n",
      "0.0001         0.752325          0.729654\n",
      "0.0010         0.745025          0.730054\n",
      "0.0100         0.717575          0.712458\n",
      "0.1000         0.684825          0.679864\n",
      "1.0000         0.674825          0.666867\n",
      "10.0000        0.634100          0.634473\n"
     ]
    }
   ],
   "source": [
    "from PrimalSVM import PrimalSVM\n",
    "\n",
    "powers = 10.0 ** np.array([-4, -3, -2, -1, 0, 1])\n",
    "\n",
    "df = pd.DataFrame({\"Lambda\": [], \"Training Score\" : [], \"Validation Score\" : []})\n",
    "\n",
    "for power in powers:    \n",
    "    PS = PrimalSVM(power)\n",
    "    PS.fit(X_train, y_train, 0.1, 10000, 500)\n",
    "    to_add = pd.DataFrame({\"Lambda\" : [power], \"Training Score\" : [PS.score(X_train, y_train)], \"Validation Score\" : [PS.score(X_val, y_val)]})\n",
    "    df = pd.concat((df, to_add))\n",
    "\n",
    "df = df.set_index('Lambda')\n",
    "print(df)"
   ]
  },
  {
   "cell_type": "markdown",
   "id": "39ff2725-7737-490a-bb91-0c963da90a52",
   "metadata": {},
   "source": [
    "<u>Result 1</u>: Therefore, it seems that $\\lambda = 0.001$ yields the best results on the <i>validation data</i>, so we can expect that this will also yield the best results on the <i>testing data</i>!"
   ]
  },
  {
   "cell_type": "markdown",
   "id": "c24b1872-457b-430a-a2e8-e4842170137b",
   "metadata": {},
   "source": [
    "Next, we can see what values of <i>batch size</i> yield good results. We would test for a bunch of different values of <i>batch size</i>, while the other hyperparameters remain fixed:"
   ]
  },
  {
   "cell_type": "code",
   "execution_count": 10,
   "id": "31a192c8-ecd4-497b-b6d5-b1f9b292166c",
   "metadata": {},
   "outputs": [
    {
     "name": "stdout",
     "output_type": "stream",
     "text": [
      "            Training Score  Validation Score\n",
      "Batch Size                                  \n",
      "25.0              0.745375          0.728854\n",
      "50.0              0.745400          0.727455\n",
      "100.0             0.745350          0.729654\n",
      "250.0             0.745175          0.728654\n",
      "500.0             0.745475          0.731054\n",
      "650.0             0.745025          0.731254\n"
     ]
    }
   ],
   "source": [
    "batch_size = np.array([25, 50, 100, 250, 500, 650])\n",
    "\n",
    "df = pd.DataFrame({\"Batch Size\": [], \"Training Score\" : [], \"Validation Score\" : []})\n",
    "\n",
    "for batch in batch_size:\n",
    "    PS = PrimalSVM(0.001)\n",
    "    PS.fit(X_train, y_train, 0.1, 1000, batch)\n",
    "    to_add = pd.DataFrame({\"Batch Size\" : [batch], \"Training Score\" : [PS.score(X_train, y_train)], \"Validation Score\" : [PS.score(X_val, y_val)]})\n",
    "    df = pd.concat((df, to_add))\n",
    "\n",
    "df = df.set_index('Batch Size')    \n",
    "print(df)"
   ]
  },
  {
   "cell_type": "markdown",
   "id": "18f9bf34-ac57-4c16-84d7-fb456c04ad7d",
   "metadata": {},
   "source": [
    "<u>Result 2</u>: Although the results are pretty close, it seems that the score stabilizes around <i>batch size</i> = $500$. So we can expect that this will also yield the best results on the <i>testing data</i>!"
   ]
  },
  {
   "cell_type": "markdown",
   "id": "6fa90cf1-9e40-4733-88b7-36762add7870",
   "metadata": {},
   "source": [
    "#### <font color=\"green\">Training the Model</font>\n",
    "\n",
    "Now, that we have an understanding of how the PEGASOS (Primal SVM) method works, and we have the ideal choice for the hyperparameters: \n",
    "<ol>\n",
    "    <li> $\\lambda = 0.001$ \n",
    "    <li><i>batch size</i> = $500$\n",
    "</ol>\n",
    "\n",
    "We can fit our model on the training data with the combination of these ideal parameters, and finally test on our <i>testing data</i>, to see what the final results are!"
   ]
  },
  {
   "cell_type": "code",
   "execution_count": 11,
   "id": "497fe94f-8296-4473-b212-630332f16640",
   "metadata": {},
   "outputs": [],
   "source": [
    "from PrimalSVM import PrimalSVM\n",
    "\n",
    "PS_final = PrimalSVM(0.001)\n",
    "PS_final.fit(X_train, y_train, 0.1, 10000, 500)"
   ]
  },
  {
   "cell_type": "code",
   "execution_count": 12,
   "id": "51ba8d24-e691-46ad-ac46-198b483693ad",
   "metadata": {},
   "outputs": [
    {
     "name": "stdout",
     "output_type": "stream",
     "text": [
      "                 Score\n",
      "Data                  \n",
      "Training Data     0.74\n",
      "Validation Data   0.73\n",
      "Testing Data      0.72\n"
     ]
    }
   ],
   "source": [
    "df = pd.DataFrame({\"Data\": [], \"Score\" : []})\n",
    "\n",
    "to_add = pd.DataFrame({\"Data\" : [\"Training Data\"], \"Score\" : [np.round(PS_final.score(X_train, y_train), 2)]})\n",
    "df = pd.concat((df, to_add))\n",
    "\n",
    "to_add = pd.DataFrame({\"Data\" : [\"Validation Data\"], \"Score\" : [np.round(PS_final.score(X_val, y_val), 2)]})\n",
    "df = pd.concat((df, to_add))\n",
    "\n",
    "to_add = pd.DataFrame({\"Data\" : [\"Testing Data\"], \"Score\" : [np.round(PS_final.score(X_test, y_test), 2)]})\n",
    "df = pd.concat((df, to_add))\n",
    "\n",
    "df = df.set_index('Data')  \n",
    "print(df)"
   ]
  },
  {
   "cell_type": "markdown",
   "id": "95093b4f-b4a6-419f-aa97-89b43aeb0c60",
   "metadata": {},
   "source": [
    "#### <font color=\"green\">Final Training Accuracy</font>\n",
    "Our model gets a $72$% score on the unseen <i>Testing Data</i>! Furthermore, our model gets a score of $73$% on the <i>Validation Data</i> and a score of $74$% on the <i>Training Data</i>\n",
    "\n",
    "#### <font color=\"green\">Limitations: Model Accuracy for Ambiguous Sentences</font>\n",
    "First, let us look at how the trained model does in predicting the sentiments of some sentences which could potentially cause an issue:"
   ]
  },
  {
   "cell_type": "code",
   "execution_count": 13,
   "id": "156adbca-7522-4c38-8ec7-f8d6062b4669",
   "metadata": {},
   "outputs": [
    {
     "data": {
      "text/html": [
       "<div>\n",
       "<style scoped>\n",
       "    .dataframe tbody tr th:only-of-type {\n",
       "        vertical-align: middle;\n",
       "    }\n",
       "\n",
       "    .dataframe tbody tr th {\n",
       "        vertical-align: top;\n",
       "    }\n",
       "\n",
       "    .dataframe thead th {\n",
       "        text-align: right;\n",
       "    }\n",
       "</style>\n",
       "<table border=\"1\" class=\"dataframe\">\n",
       "  <thead>\n",
       "    <tr style=\"text-align: right;\">\n",
       "      <th></th>\n",
       "      <th>Sentiment</th>\n",
       "    </tr>\n",
       "    <tr>\n",
       "      <th>Sentence</th>\n",
       "      <th></th>\n",
       "    </tr>\n",
       "  </thead>\n",
       "  <tbody>\n",
       "    <tr>\n",
       "      <th>I love apples</th>\n",
       "      <td>Positive</td>\n",
       "    </tr>\n",
       "    <tr>\n",
       "      <th>I hate oranges</th>\n",
       "      <td>Negative</td>\n",
       "    </tr>\n",
       "    <tr>\n",
       "      <th>Today has been a bad day</th>\n",
       "      <td>Negative</td>\n",
       "    </tr>\n",
       "    <tr>\n",
       "      <th>Yesterday was a pretty good day</th>\n",
       "      <td>Positive</td>\n",
       "    </tr>\n",
       "    <tr>\n",
       "      <th>I am smiling</th>\n",
       "      <td>Positive</td>\n",
       "    </tr>\n",
       "    <tr>\n",
       "      <th>I am happy</th>\n",
       "      <td>Positive</td>\n",
       "    </tr>\n",
       "    <tr>\n",
       "      <th>I am not happy</th>\n",
       "      <td>Positive</td>\n",
       "    </tr>\n",
       "    <tr>\n",
       "      <th>I am sad</th>\n",
       "      <td>Negative</td>\n",
       "    </tr>\n",
       "    <tr>\n",
       "      <th>Coffee is amazing bad bad</th>\n",
       "      <td>Negative</td>\n",
       "    </tr>\n",
       "  </tbody>\n",
       "</table>\n",
       "</div>"
      ],
      "text/plain": [
       "                                Sentiment\n",
       "Sentence                                 \n",
       "I love apples                    Positive\n",
       "I hate oranges                   Negative\n",
       "Today has been a bad day         Negative\n",
       "Yesterday was a pretty good day  Positive\n",
       "I am smiling                     Positive\n",
       "I am happy                       Positive\n",
       "I am not happy                   Positive\n",
       "I am sad                         Negative\n",
       "Coffee is amazing bad bad        Negative"
      ]
     },
     "execution_count": 13,
     "metadata": {},
     "output_type": "execute_result"
    }
   ],
   "source": [
    "testSentences = [\"I love apples\", \"I hate oranges\", \"Today has been a bad day\", \"Yesterday was a pretty good day\", \"I am smiling\", \"I am happy\", \"I am not happy\", \"I am sad\", \"Coffee is amazing bad bad\"]\n",
    "\n",
    "df = pd.DataFrame({\"Sentence\": [], \"Sentiment\" : []})\n",
    "\n",
    "for sent in testSentences:\n",
    "    tempMatrix = hp.sentencePredict(sent, cv)\n",
    "    result = PS_final.predict(tempMatrix)\n",
    "    sentiment = \"Negative\"\n",
    "    if(result==1):\n",
    "        sentiment = \"Positive\"\n",
    "    to_add = pd.DataFrame({\"Sentence\" : [sent], \"Sentiment\" : [sentiment]})\n",
    "    df = pd.concat((df, to_add))\n",
    "\n",
    "df = df.set_index('Sentence')\n",
    "df"
   ]
  },
  {
   "cell_type": "markdown",
   "id": "32ee382e-702d-4408-b259-6335fe1b17cb",
   "metadata": {},
   "source": [
    "Therefore, our model seems to be doing pretty well for the first $6$ sentences, but as soon as we introduce \"not\" our model fails! In the sentence \"I am not happy\", our model does not contextually understand that \"not\" negates the sentence - therefore, probably using the weight of the word \"happy\" to classify the sentence as positive. Furthermore, in the sentence \"Coffee is amazing bad bad\", we can see the bag-of-words approach in play, introducing a couple of \"bad\"s at the end of the sentence, brings down the score of the sentence, making the model classify it as <i>Negative</i>!"
   ]
  },
  {
   "cell_type": "markdown",
   "id": "b38ea7eb-dcb3-4a8a-a038-835eaae8b765",
   "metadata": {},
   "source": [
    "#### <font color=\"green\">Visualizing the Evolution of Training Loss</font>"
   ]
  },
  {
   "cell_type": "markdown",
   "id": "071de408-2ca8-475f-a968-b9afcae87b4a",
   "metadata": {},
   "source": [
    "In this section of the project, we can go ahead and visualize how the loss of our PEGASOS model evolves over iterations:"
   ]
  },
  {
   "cell_type": "code",
   "execution_count": 14,
   "id": "43f16fc7-a295-4c52-8e34-8e088ca8012f",
   "metadata": {},
   "outputs": [
    {
     "data": {
      "image/png": "[encoded data removed]",
      "text/plain": [
       "<Figure size 640x480 with 1 Axes>"
      ]
     },
     "metadata": {},
     "output_type": "display_data"
    }
   ],
   "source": [
    "num_steps = len(PS_final.loss_history)\n",
    "plt.plot(np.arange(num_steps) + 1, PS_final.loss_history, label = \"PEGASOS Model (Loss History)\")\n",
    "\n",
    "plt.loglog()\n",
    "plt.title(\"Evolution of PEGASOS' Loss over Iterations\")\n",
    "plt.xlabel(\"Iterations\")\n",
    "plt.ylabel(\"PEGASOS' Loss\")\n",
    "\n",
    "legend = plt.legend() "
   ]
  },
  {
   "cell_type": "markdown",
   "id": "34415153-2eed-4b83-a202-d160f2254349",
   "metadata": {},
   "source": [
    "#### <font color = \"green\">Comparison to Other Models</font>\n",
    "In this section, we will implement some other models (pre-written in scikit learn) and see how they fare compared to this project's implementation of PEGASOS:"
   ]
  },
  {
   "cell_type": "code",
   "execution_count": 16,
   "id": "deb87f8c-538e-4ead-936f-88a8fcccf121",
   "metadata": {},
   "outputs": [
    {
     "name": "stdout",
     "output_type": "stream",
     "text": [
      "                             Training Score  Testing Score\n",
      "Model                                                     \n",
      "Logistic Regression                0.753750         0.7362\n",
      "Stochastic Gradient Descent        0.750625         0.7270\n",
      "PEGASOS                            0.740000         0.7200\n",
      "Decision Tree                      0.961400         0.6596\n"
     ]
    }
   ],
   "source": [
    "df = pd.DataFrame({\"Model\": [], \"Training Score\" : [], \"Testing Score\" : []})\n",
    "\n",
    "to_add = pd.DataFrame({\"Model\" : [\"PEGASOS\"], \"Training Score\" : [0.74], \"Testing Score\" : [0.72]})\n",
    "df = pd.concat((df, to_add))\n",
    "\n",
    "# Decision Tree Classifier\n",
    "from sklearn.tree import DecisionTreeClassifier\n",
    "DT = DecisionTreeClassifier()\n",
    "DT.fit(X_train, y_train)\n",
    "to_add = pd.DataFrame({\"Model\" : [\"Decision Tree\"], \"Training Score\" : [DT.score(X_train, y_train)], \"Testing Score\" : [DT.score(X_test, y_test)]})\n",
    "df = pd.concat((df, to_add))\n",
    "\n",
    "# Logistic Regression\n",
    "from sklearn.linear_model import LogisticRegression\n",
    "LR = LogisticRegression()\n",
    "LR.fit(X_train, y_train)\n",
    "to_add = pd.DataFrame({\"Model\" : [\"Logistic Regression\"], \"Training Score\" : [LR.score(X_train, y_train)], \"Testing Score\" : [LR.score(X_test, y_test)]})\n",
    "df = pd.concat((df, to_add))\n",
    "\n",
    "# Stochastic Gradient Descent\n",
    "from sklearn.linear_model import SGDClassifier\n",
    "SGD = SGDClassifier()\n",
    "SGD.fit(X_train, y_train)\n",
    "to_add = pd.DataFrame({\"Model\" : [\"Stochastic Gradient Descent\"], \"Training Score\" : [SGD.score(X_train, y_train)], \"Testing Score\" : [SGD.score(X_test, y_test)]})\n",
    "df = pd.concat((df, to_add))\n",
    "\n",
    "# sorting based on performance on testing data\n",
    "df = df.sort_values(by=['Testing Score'], ascending = False)\n",
    "\n",
    "df = df.set_index(\"Model\")\n",
    "print(df)"
   ]
  },
  {
   "cell_type": "markdown",
   "id": "f7ed33d3-0ce2-4931-8cb2-db0162c1218d",
   "metadata": {},
   "source": [
    "Therefore, we can see that in terms of performance on the unseen <i>testing data</i>, this project's implementation of PEGASOS is on $3\\text{rd}$ position. However, one must note that the difference in the testing score between our model and the other scikit-learn model's is not that much, and the PEGASOS model fares pretty well with the other models!"
   ]
  },
  {
   "cell_type": "markdown",
   "id": "1feffa5b-ad25-4126-abb2-d362f0d84063",
   "metadata": {
    "jp-MarkdownHeadingCollapsed": true,
    "tags": []
   },
   "source": [
    "# Concluding Discussion\n",
    "\n",
    "Overall, I feel that my project met the goals that I had initially set! Although, I was not able to upload my model on a web-app which could be used by the public - that was an extended goal for this project. In terms of its primary goals, I was able to:\n",
    "<ol>\n",
    "    <li> Identify the Right Model for Training - <b>PEGASOS</b>\n",
    "    <li> Prepare the Data for the Model \n",
    "    <li> Code and Implement the Model and Train \n",
    "    <li> Obtain a relatively good score on the <i>Testing Data</i>\n",
    "</ol>\n",
    "\n",
    "However, the model's score was not as high as I expected (wanted) it to be! Going into this project, I was aware that PEGASOS' sentiment analysis does not understand the words contextually - however, I wanted to implement the algorithm on my own, for which PEGASOS was a good choice. \n",
    "\n",
    "If I had more time, I would:\n",
    "<ul>\n",
    "    <li> Implement the use of emoticons while making decisions about the sentiment of the tweets [@SentimentDistantSupervision]\n",
    "    <li> Use <i>transformers</i> to train a model which understands words contextually, and is able to discern sarcasm from true intent\n",
    "</ul>\n",
    "\n",
    "If I had more computation power, I would:\n",
    "<ul>\n",
    "    <li> Train my model over larger subset of the dataset, to see if that affects our <i>testing score</i>\n",
    "</ul>"
   ]
  },
  {
   "cell_type": "markdown",
   "id": "3ddabf4b-f849-4e9a-ab94-c1d9c7a6e871",
   "metadata": {},
   "source": [
    "# Personal Reflection\n",
    "Personally, I found the process of working on this project very enriching. This class has always been very hands-on, and working on this project was an extension of that. Through this project, I got acquainted with the workflow which is followed in a machine learning project. This was a good exercise to both get the data ready for the machine learning model (identifying and understanding the data set, and then vectorizing it), and to be able to read literature and scholarly papers and translate the math into code. Furthermore, this project made me appreciate the value of writing optimized code and choosing the right models - which do not cause heavy computational pressure on the device. I felt this when I was trying to work with the <i>Dual</i> form of SVM - which required the creation of a really large <i>kernel matrix</i>.\n",
    "\n",
    "All in all, this project definitely has room for improvement, especially with the existence of models which can understand words contextually and discern sarcam from true emotions. However, I am satisfied with my findings in this project, and I feel that I met my goals just right (did not exceed them, and did not fall too short). One goal which I could not meet was uploading this model on a web-app, however, that was an extended goal and I aim to do that soon in the future.\n",
    "\n",
    "This project definitely improved my ability to research machine learning topics, and to teach myself things. Therefore, this experience will definitely help me in my future courses and career. This is because tech is constantly evolving, and to learn new things, you have to be able to teach yourself.\n"
   ]
  }
 ],
 "metadata": {
  "kernelspec": {
   "display_name": "Python [conda env:ml-0451] *",
   "language": "python",
   "name": "conda-env-ml-0451-py"
  },
  "language_info": {
   "codemirror_mode": {
    "name": "ipython",
    "version": 3
   },
   "file_extension": ".py",
   "mimetype": "text/x-python",
   "name": "python",
   "nbconvert_exporter": "python",
   "pygments_lexer": "ipython3",
   "version": "3.9.16"
  }
 },
 "nbformat": 4,
 "nbformat_minor": 5
}
