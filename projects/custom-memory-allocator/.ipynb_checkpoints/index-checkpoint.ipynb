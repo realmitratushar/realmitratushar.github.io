{
 "cells": [
  {
   "cell_type": "raw",
   "id": "0bd29c17-1032-4e2e-b64d-111c058446d8",
   "metadata": {},
   "source": [
    "---\n",
    "title: Custom Memory Allocator in C\n",
    "author: Neil Dcruze\n",
    "date: '2023-12-19'\n",
    "image: \"image.png\"\n",
    "description: \"Writing a Custom Memory Allocator (my own implementation of malloc) in C in an attempt to understand System Calls, and how we can use them more efficiently.\"\n",
    "format: html\n",
    "categories: [\"Systems Programming\", \"In Progress\"]\n",
    "---"
   ]
  }
 ],
 "metadata": {
  "kernelspec": {
   "display_name": "Python [conda env:ml-0451] *",
   "language": "python",
   "name": "conda-env-ml-0451-py"
  },
  "language_info": {
   "codemirror_mode": {
    "name": "ipython",
    "version": 3
   },
   "file_extension": ".py",
   "mimetype": "text/x-python",
   "name": "python",
   "nbconvert_exporter": "python",
   "pygments_lexer": "ipython3",
   "version": "3.9.16"
  }
 },
 "nbformat": 4,
 "nbformat_minor": 5
}
